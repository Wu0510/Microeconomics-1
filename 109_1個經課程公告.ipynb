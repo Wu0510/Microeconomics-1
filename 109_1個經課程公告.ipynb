{
  "nbformat": 4,
  "nbformat_minor": 0,
  "metadata": {
    "colab": {
      "name": "109-1個經課程公告.ipynb",
      "provenance": [],
      "collapsed_sections": [],
      "authorship_tag": "ABX9TyMOxccjHMPv7JsD1tnSXWlM",
      "include_colab_link": true
    },
    "kernelspec": {
      "name": "python3",
      "display_name": "Python 3"
    }
  },
  "cells": [
    {
      "cell_type": "markdown",
      "metadata": {
        "id": "view-in-github",
        "colab_type": "text"
      },
      "source": [
        "<a href=\"https://colab.research.google.com/github/HungHuaTien/Microeconomics/blob/master/109_1%E5%80%8B%E7%B6%93%E8%AA%B2%E7%A8%8B%E5%85%AC%E5%91%8A.ipynb\" target=\"_parent\"><img src=\"https://colab.research.google.com/assets/colab-badge.svg\" alt=\"Open In Colab\"/></a>"
      ]
    },
    {
      "cell_type": "markdown",
      "metadata": {
        "id": "DR0X8qoJIuuk"
      },
      "source": [
        "# Week 1 09-15-2020\n",
        "**上課內容**\n",
        "\n",
        "1. 什麼是（個體）經濟學？（一）\n",
        "\n",
        "2. 課程綱要\n",
        "\n",
        "3. 作業1: \n",
        "[Github網址回傳](https://docs.google.com/forms/d/e/1FAIpQLSf2apDSYkI_r34ZKlVHS-5oHT3i1vZaf2RVFrwWkUllFGNYBw/viewform?usp=pp_url)\n",
        "\n",
        "\n",
        "~ 請在Github平台設立帳戶，繳交所有作業。不會操作者，請觀看[教學影片](https://youtu.be/vw2PCJwI7zM)。"
      ]
    },
    {
      "cell_type": "markdown",
      "metadata": {
        "id": "ZPsuLy2UTAFb"
      },
      "source": [
        "**上課錄影影片**\n",
        "\n",
        "[第一堂課](https://youtu.be/tlFvk0tMLWw)\n",
        "\n",
        "[第二堂課](https://youtu.be/bF_jYE44Ha4)\n",
        "\n",
        "[第三堂課](https://youtu.be/alb1w-pB4pk)"
      ]
    },
    {
      "cell_type": "markdown",
      "metadata": {
        "id": "nWqel9We9r8J"
      },
      "source": [
        "**請注意**：考試時，僅能帶英文教科書進入考場，其他參考資料、手寫筆記一律不行。"
      ]
    },
    {
      "cell_type": "markdown",
      "metadata": {
        "id": "T4AmePpzI4Zx"
      },
      "source": [
        "# Week 2 09-22-2020\n",
        "\n",
        "**上課內容**\n",
        "\n",
        "七大經濟學原理\n",
        "\n",
        "閱讀的技巧\n",
        "\n",
        "作業2: 如果你是系學會的幹部，負責和大一新生聯絡，並確認會不會前來就讀。請你利用七大經濟學原理，分析一下來與不來選項（就讀、重考、念國立大學進修部）的利弊得失。"
      ]
    },
    {
      "cell_type": "markdown",
      "metadata": {
        "id": "oMGNTi-h4XDh"
      },
      "source": [
        "**錄影檔案**\n",
        "\n",
        "[第一小時](https://www.youtube.com/watch?v=1bjKFq8YtuY&feature=youtu.be)\n",
        "\n",
        "[第二小時](https://www.youtube.com/watch?v=gtMngigIgMU&feature=youtu.be)\n",
        "\n",
        "[第三小時](https://www.youtube.com/watch?v=0LGQV17QbgI&feature=youtu.be)"
      ]
    },
    {
      "cell_type": "markdown",
      "metadata": {
        "id": "N6bcKNG0JCsy"
      },
      "source": [
        "# Week 3 09-29-2020\n",
        "\n",
        "**教學進度**\n",
        "\n",
        "消費者選擇（一）：效用函數\n",
        "\n",
        "作業 3：LBD檔案中習題的第一題與第二題。"
      ]
    },
    {
      "cell_type": "markdown",
      "metadata": {
        "id": "OfhWOCdksYmB"
      },
      "source": [
        "**上課速記**\n",
        "\n",
        "同學很活潑，上課會主動回答問題，謝謝同學的參與，這樣可以知道同學有沒有跟上。\n",
        "\n",
        "有同學很認真的看完上課的錄影，這很棒！上一週的第二與第三小時，錄影的聲音有問題。這一週我已經改用另一個錄影軟體，看看結果會不會比較好。我以前都用windows，所以有購買錄影的專業軟體，蘋果電腦還在測試當中，也歡迎同學推薦。又，之前錄音聲音的音量都比較大，如果有需要，我也可以自備ＵＳＢ錄音麥克風。\n",
        "\n",
        "請同學每一週都要寫作業上傳，養成良好的學習習慣。"
      ]
    },
    {
      "cell_type": "markdown",
      "metadata": {
        "id": "5vIDB_q64VgN"
      },
      "source": [
        "**上課錄影**\n",
        "\n",
        "[第一小時](https://youtu.be/uvHDllbCgXI)\n",
        "\n",
        "[第二小時](https://youtu.be/z9YK1FClAtE)\n",
        "\n",
        "[第三小時](https://youtu.be/w7ARmQiIRHM)"
      ]
    },
    {
      "cell_type": "markdown",
      "metadata": {
        "id": "xq85RObXJH2K"
      },
      "source": [
        "# Week 4 06-10-2020\n",
        "\n",
        "**教學進度**\n",
        "\n",
        "習題1與2檢討\n",
        "預算限制\n",
        "\n",
        "作業4:LBD檔案中習題的第三題與第四題。"
      ]
    },
    {
      "cell_type": "markdown",
      "metadata": {
        "id": "uINJQehve_Zl"
      },
      "source": [
        "**上課速記**\n",
        "\n",
        "1. 同學來教室上課，要準備英文課本，並攜帶上課講義紙本。如果沒有，至少可以利用手機閱讀PDF檔，配合上課內容學習。\n",
        "2. 建議同學要自己寫筆記，這是最好的學習方式。\n",
        "3. 每一週都有作業，請同學於下次上課前繳交到Github上。\n",
        "4. 檢討習題時，歡迎同學提問，並把握加分機會。\n",
        "\n",
        "～今天檢討的兩題習題，從同學上課的反應看來，同學可能會覺得困難。後面習題的題目都會比今天容易，不知道這樣的個經是否會太簡單了，低估同學的實力！"
      ]
    },
    {
      "cell_type": "markdown",
      "metadata": {
        "id": "iW-J0Ho2gWna"
      },
      "source": [
        "**課程錄影**\n",
        "\n",
        "今天前兩小時的錄影有問題，僅有第三小時的內容。\n",
        "\n",
        "[第三小時](https://youtu.be/83BVIs89OoM)"
      ]
    },
    {
      "cell_type": "markdown",
      "metadata": {
        "id": "oVcOqtHOJdD0"
      },
      "source": [
        "# Week 5 13-10-2020\n",
        "\n",
        "**教學進度**\n",
        "\n",
        "習題3與4檢討\n",
        "\n",
        "效用極大化模型\n",
        "\n",
        "作業：Learning By Doing 5 and 6"
      ]
    },
    {
      "cell_type": "markdown",
      "metadata": {
        "id": "nKl9p7N_OdPh"
      },
      "source": [
        "**上課速記**\n",
        "\n",
        "1. 問問題前，請先看上課錄影的教學影片。\n",
        "同學看過錄影之後，如果你有問題，非常歡迎你來問問題。\n",
        "\n",
        "2. 英文教科書(Perloff, Microeocnomics)的PDF檔，已經放到Google Drive中，有興趣的同學可以參考。這個檔案是2015年的版本，我沒有更新更近的檔案。\n",
        "\n",
        "\n",
        "**課程錄影**\n",
        "\n",
        "[今天的上課錄影](https://youtu.be/L_sFYLfocqU)"
      ]
    },
    {
      "cell_type": "markdown",
      "metadata": {
        "id": "U0UPQ3OUJjJL"
      },
      "source": [
        "# Week 6 20-10-2020"
      ]
    },
    {
      "cell_type": "markdown",
      "metadata": {
        "id": "8RqifPy9Ob7m"
      },
      "source": [
        ""
      ]
    },
    {
      "cell_type": "markdown",
      "metadata": {
        "id": "I_L5vN2GJnLD"
      },
      "source": [
        "# Week 7 27-10-2020"
      ]
    },
    {
      "cell_type": "markdown",
      "metadata": {
        "id": "E4mrD480JrnE"
      },
      "source": [
        "# Week 8 03-11-2020"
      ]
    },
    {
      "cell_type": "markdown",
      "metadata": {
        "id": "8vq8vRGDJwFb"
      },
      "source": [
        "# Week 9 10-11-2020"
      ]
    },
    {
      "cell_type": "markdown",
      "metadata": {
        "id": "lCcd4caCh5vJ"
      },
      "source": [
        "# Week 10 17-11-2020"
      ]
    },
    {
      "cell_type": "markdown",
      "metadata": {
        "id": "ctFMz3ZUh-ZH"
      },
      "source": [
        "# Week 11 24-11-2020"
      ]
    }
  ]
}